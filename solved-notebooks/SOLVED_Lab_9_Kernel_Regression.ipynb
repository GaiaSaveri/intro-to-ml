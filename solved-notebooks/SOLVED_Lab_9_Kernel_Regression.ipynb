{
  "cells": [
    {
      "cell_type": "markdown",
      "source": [
        "# Kernel regression\n",
        "\n",
        "<a target=\"_blank\" href=\"https://colab.research.google.com/github/GaiaSaveri/intro-to-ml/blob/main/notebooks/SOLVED-Lab-9.Kernel_Regression.ipynb\">\n",
        "  <img src=\"https://colab.research.google.com/assets/colab-badge.svg\" alt=\"Open In Colab\"/>\n",
        "</a>"
      ],
      "metadata": {
        "id": "ILjAfT7xmkWY"
      },
      "id": "ILjAfT7xmkWY"
    },
    {
      "cell_type": "code",
      "execution_count": null,
      "id": "9cd3cfa2",
      "metadata": {
        "id": "9cd3cfa2"
      },
      "outputs": [],
      "source": [
        "import numpy as np\n",
        "import matplotlib.pyplot as plt\n",
        "\n",
        "from math import sin\n",
        "from math import cos"
      ]
    },
    {
      "cell_type": "markdown",
      "id": "02fab025",
      "metadata": {
        "id": "02fab025"
      },
      "source": [
        "## Linear data\n",
        "\n",
        "First, we need some data we can play with. Let's create some arbitrary 2D samples."
      ]
    },
    {
      "cell_type": "code",
      "execution_count": null,
      "id": "48e16bc8",
      "metadata": {
        "scrolled": false,
        "id": "48e16bc8",
        "outputId": "cb330834-c8d9-497a-e44b-796036f392cc",
        "colab": {
          "base_uri": "https://localhost:8080/",
          "height": 283
        }
      },
      "outputs": [
        {
          "output_type": "execute_result",
          "data": {
            "text/plain": [
              "[<matplotlib.lines.Line2D at 0x7f519068ec40>]"
            ]
          },
          "metadata": {},
          "execution_count": 2
        },
        {
          "output_type": "display_data",
          "data": {
            "text/plain": [
              "<Figure size 432x288 with 1 Axes>"
            ],
            "image/png": "[encoded data removed]"
          },
          "metadata": {
            "needs_background": "light"
          }
        }
      ],
      "source": [
        "points = 100\n",
        "sigma = 1\n",
        "\n",
        "eps = np.random.normal(0,sigma,points)\n",
        "x = np.linspace(2,30,points)\n",
        "y = 2 * x + 50 + eps\n",
        "x = x[:, np.newaxis]\n",
        "plt.plot(x,y, 'o')"
      ]
    },
    {
      "cell_type": "markdown",
      "source": [
        "You can clearly see that there is a strong correlation between the two variables."
      ],
      "metadata": {
        "id": "ws8w6J8Bn-Fm"
      },
      "id": "ws8w6J8Bn-Fm"
    },
    {
      "cell_type": "markdown",
      "id": "6fc85657",
      "metadata": {
        "id": "6fc85657"
      },
      "source": [
        "We know that the equation of a line is $y = wx$. Solving for $w$: $$w = X^{-1}y$$\n",
        "\n",
        "Since we can not invert a matrix that isn’t square we simply make $X$ square by multiplying with its own transpose before inversion. To get the original shape back and by magic of math we multiply by the transpose again.\n",
        "$$X^{-1} \\sim (X^TX)^{-1} \\, X^T$$\n",
        "Plugging it in:\n",
        "$$w=(X^{T}X)^{-1}\\, X^{T} \\, y$$\n",
        "\n",
        "Dimensions: \n",
        "- $X\\in R^{N\\times d}$\n",
        "- $X^{T}X\\in R^{d\\times d}$  \n",
        "\n",
        "where $N$ is the number of points and $d$ is the dimension of each point."
      ]
    },
    {
      "cell_type": "code",
      "execution_count": null,
      "id": "f2a31cef",
      "metadata": {
        "id": "f2a31cef",
        "outputId": "698d9af4-b353-494b-f3e2-beeff7a3816f",
        "colab": {
          "base_uri": "https://localhost:8080/",
          "height": 286
        }
      },
      "outputs": [
        {
          "output_type": "execute_result",
          "data": {
            "text/plain": [
              "[<matplotlib.lines.Line2D at 0x7f5190588d90>]"
            ]
          },
          "metadata": {},
          "execution_count": 3
        },
        {
          "output_type": "display_data",
          "data": {
            "text/plain": [
              "<Figure size 432x288 with 1 Axes>"
            ],
            "image/png": "[encoded data removed]"
          },
          "metadata": {
            "needs_background": "light"
          }
        }
      ],
      "source": [
        "k = np.linalg.inv(np.dot(x.T, x))\n",
        "w = np.dot(k, np.dot(x.T,y))\n",
        "plt.plot(x,y,'o')\n",
        "plt.plot(x, w*x)"
      ]
    },
    {
      "cell_type": "markdown",
      "id": "66542676",
      "metadata": {
        "id": "66542676"
      },
      "source": [
        "Well we got a line, but it doesn’t really match the data yet. So what went wrong? The line equation that we started with $y=wx$ will always pass through $(0,0)$.\n",
        "\n",
        "However, the regression line we expect from our data does not pass through $(0,0)$. So we have to adjust our line equation so that it’s y-value at $x=0$ can be fitted by our approach. We all know that we can simply add a constant to our line formula to end up with $y=wx+b$.\n",
        "\n",
        "To deal with this situation, we just add an extra dimension to our data. Now the same multiplication of $X$ and $w$ will be $2$ dimensional as well. The matrix multiplication looks like this:\n",
        "\n",
        "$$ \\begin{bmatrix}\n",
        "x_{0,0} \\, w_0 + x_{0,1} \\, w_1\\\\\n",
        "\\dots \\\\\n",
        "x_{0,0} \\, w_0 + x_{n,1} \\, w_1\n",
        "\\end{bmatrix} = \\begin{bmatrix}\n",
        "y_0 \\\\ \\dots \\\\ y_n\n",
        "\\end{bmatrix}\n",
        "$$\n",
        "\n",
        "Now if we set $x[:,1] = 1$ and we view $w[1]$ as $b$, we get the line equation with our bias. We don't even have to change our equations!"
      ]
    },
    {
      "cell_type": "markdown",
      "source": [
        "1. **Redo the calculations to add the constant $b$, then plot it.**  \n",
        "*Tip: have a look at ```np.stack()```*"
      ],
      "metadata": {
        "id": "n9ILf4hJ7Zt2"
      },
      "id": "n9ILf4hJ7Zt2"
    },
    {
      "cell_type": "code",
      "source": [
        "# before\n",
        "x[:5]"
      ],
      "metadata": {
        "colab": {
          "base_uri": "https://localhost:8080/"
        },
        "id": "GSW-jVFbsRAw",
        "outputId": "d9d386f4-3b1c-4a0b-96f2-05233df39d68"
      },
      "id": "GSW-jVFbsRAw",
      "execution_count": null,
      "outputs": [
        {
          "output_type": "execute_result",
          "data": {
            "text/plain": [
              "array([[2.        ],\n",
              "       [2.28282828],\n",
              "       [2.56565657],\n",
              "       [2.84848485],\n",
              "       [3.13131313]])"
            ]
          },
          "metadata": {},
          "execution_count": 4
        }
      ]
    },
    {
      "cell_type": "code",
      "execution_count": null,
      "id": "2ff53ab7",
      "metadata": {
        "id": "2ff53ab7"
      },
      "outputs": [],
      "source": [
        "# np.stack: join a sequence of arrays along a new axis\n",
        "x = np.stack([x[:,0], np.ones(x.shape[0])], axis=1).reshape(-1,2)\n",
        "k = np.linalg.inv(np.dot(x.T,x))\n",
        "w = np.dot(k,np.dot(x.T,y))"
      ]
    },
    {
      "cell_type": "code",
      "source": [
        "# after\n",
        "x[:5]"
      ],
      "metadata": {
        "colab": {
          "base_uri": "https://localhost:8080/"
        },
        "id": "z70pYyTgsUK2",
        "outputId": "4a5a15f4-fe49-442d-9a32-75e3db027e43"
      },
      "id": "z70pYyTgsUK2",
      "execution_count": null,
      "outputs": [
        {
          "output_type": "execute_result",
          "data": {
            "text/plain": [
              "array([[2.        , 1.        ],\n",
              "       [2.28282828, 1.        ],\n",
              "       [2.56565657, 1.        ],\n",
              "       [2.84848485, 1.        ],\n",
              "       [3.13131313, 1.        ]])"
            ]
          },
          "metadata": {},
          "execution_count": 6
        }
      ]
    },
    {
      "cell_type": "code",
      "execution_count": null,
      "id": "aca99612",
      "metadata": {
        "scrolled": true,
        "id": "aca99612",
        "outputId": "3acb36f2-752e-43f1-accb-fdeaf0b91188",
        "colab": {
          "base_uri": "https://localhost:8080/",
          "height": 283
        }
      },
      "outputs": [
        {
          "output_type": "execute_result",
          "data": {
            "text/plain": [
              "[<matplotlib.lines.Line2D at 0x7f5190507850>]"
            ]
          },
          "metadata": {},
          "execution_count": 7
        },
        {
          "output_type": "display_data",
          "data": {
            "text/plain": [
              "<Figure size 432x288 with 1 Axes>"
            ],
            "image/png": "[encoded data removed]"
          },
          "metadata": {
            "needs_background": "light"
          }
        }
      ],
      "source": [
        "plt.plot(x[:,0], y, 'o')\n",
        "plt.plot(x[:,0], x[:,0]*w[0] + w[1])"
      ]
    },
    {
      "cell_type": "markdown",
      "id": "60212609",
      "metadata": {
        "id": "60212609"
      },
      "source": [
        "###Ridge regression\n",
        "Sometimes the pseudo-inverse can run into trouble which can be avoided if we add a small value to our matrix before computing the inverse. This is known as *ridge regression*.\n",
        "\n",
        "\n",
        "$$\n",
        "w=(X^{T}X+\\lambda \\, I)^{-1}\\, X^{T}y\n",
        "$$\n",
        "\n"
      ]
    },
    {
      "cell_type": "code",
      "execution_count": null,
      "id": "498ff4d4",
      "metadata": {
        "scrolled": true,
        "id": "498ff4d4"
      },
      "outputs": [],
      "source": [
        "lam = 1\n",
        "k = np.linalg.inv(np.dot(x.T,x) + lam * np.eye(x.shape[1]))\n",
        "w_ridge = np.dot(k,np.dot(x.T,y))"
      ]
    },
    {
      "cell_type": "markdown",
      "id": "51255cad",
      "metadata": {
        "id": "51255cad"
      },
      "source": [
        "## Kernel Regression\n",
        "\n",
        "What if our data isn't linear?  \n",
        "If we add a few dimensions to our input data we might be able to a linear regression in the higher dimension (feature space).\n",
        "\n",
        "Let's set up some non-linear data."
      ]
    },
    {
      "cell_type": "code",
      "execution_count": null,
      "id": "6b2fb9fb",
      "metadata": {
        "id": "6b2fb9fb",
        "outputId": "8b797ea0-b6f8-43e6-fd87-dff5763fcbec",
        "colab": {
          "base_uri": "https://localhost:8080/",
          "height": 283
        }
      },
      "outputs": [
        {
          "output_type": "execute_result",
          "data": {
            "text/plain": [
              "[<matplotlib.lines.Line2D at 0x7f5190472f70>]"
            ]
          },
          "metadata": {},
          "execution_count": 9
        },
        {
          "output_type": "display_data",
          "data": {
            "text/plain": [
              "<Figure size 432x288 with 1 Axes>"
            ],
            "image/png": "[encoded data removed]"
          },
          "metadata": {
            "needs_background": "light"
          }
        }
      ],
      "source": [
        "y = x[:,0] + 4 * np.sin(x[:,0])+ 4 * np.random.rand(x.shape[0])\n",
        "\n",
        "plt.plot(x[:,0], y, 'o')"
      ]
    },
    {
      "cell_type": "markdown",
      "source": [
        "2. **Define the following kernel functions**\n",
        "- Polynomial $$k(x_1,x_2) = (x_1^T \\cdot x_2 +1 )^p $$\n",
        "- Gaussian $$k(x_1, x_2) = \\exp \\bigg( - \\frac{||x_1-x_2||^2}{2p^2} \\bigg)$$\n",
        "- Linear $$k(x_1,x_2) = x_1^T \\cdot x_2 $$\n",
        "\n",
        "**then calculate the kernel matrix $K$.**"
      ],
      "metadata": {
        "id": "IvcC0joE8Is8"
      },
      "id": "IvcC0joE8Is8"
    },
    {
      "cell_type": "code",
      "execution_count": null,
      "id": "6c490c46",
      "metadata": {
        "id": "6c490c46"
      },
      "outputs": [],
      "source": [
        "def kernelFunc(x1, x2, kernel_type, param):\n",
        "    \n",
        "    if kernel_type == 'Polynomial':\n",
        "        return pow((1 + np.dot(x1, x2)), param)\n",
        "    \n",
        "    elif kernel_type == 'Gaussian':\n",
        "        return np.exp(-(np.dot(x1-x2,x1-x2) /param**2))\n",
        "    \n",
        "    # Linear Kernel, same as not using Kernels at all\n",
        "    elif kernel_type == 'Linear':\n",
        "        return np.dot(x1,x2)"
      ]
    },
    {
      "cell_type": "code",
      "execution_count": null,
      "id": "8c0c47c3",
      "metadata": {
        "id": "8c0c47c3"
      },
      "outputs": [],
      "source": [
        "kernel_type = 'Gaussian'\n",
        "param = 1\n",
        "\n",
        "\n",
        "# We could just call the kernel function every time, instead we store the solutions in this matrix to save some computations\n",
        "K = np.zeros((x.shape[0], x.shape[0]))\n",
        "\n",
        "for i, row in enumerate(K):\n",
        "    for j, col in enumerate(K.T):\n",
        "        K[i,j] = kernelFunc(x[i,:], x[j,:], kernel_type, param)"
      ]
    },
    {
      "cell_type": "markdown",
      "source": [
        "Before going on, notice how $$w = (X^TX + \\lambda I )^{-1} X^Ty$$ is the same as $$w=X^T(XX^T  + \\lambda I)^{-1}y.$$ By changing the order of the transpose, we can compute the inverse just as well."
      ],
      "metadata": {
        "id": "s1wfpHcuADDW"
      },
      "id": "s1wfpHcuADDW"
    },
    {
      "cell_type": "markdown",
      "source": [
        "Now we just take our linear regression and replace all dot products with kernel functions.\n",
        "\n",
        "$$\n",
        "y(z)=z^Tw=z^T \\, X^{T}(XX^{T})^{-1} \\, y = \\alpha(z) \\, K^{-1} \\, y\n",
        "$$\n",
        "\n",
        "with $$\\alpha(z)= \\begin{bmatrix}\n",
        "k(z,x_0) \\\\ \\dots \\\\ k(z,x_N) \n",
        "\\end{bmatrix} \\in R^{1\\times N} $$\n",
        "\n",
        "The Kernel matrix here is $K=XX^{T}\\in R^{N\\times N}$, where $N$ is the number of points.\n",
        "\n",
        "Notice that we also have to embed the vector at which we evaluate the regression, here $z$. Putting this into code we get:\n"
      ],
      "metadata": {
        "id": "pimTQt_2wZPa"
      },
      "id": "pimTQt_2wZPa"
    },
    {
      "cell_type": "code",
      "execution_count": null,
      "id": "7427ba68",
      "metadata": {
        "id": "7427ba68",
        "outputId": "27172c98-a031-43cb-c9c9-714e6d3f910e",
        "colab": {
          "base_uri": "https://localhost:8080/",
          "height": 283
        }
      },
      "outputs": [
        {
          "output_type": "execute_result",
          "data": {
            "text/plain": [
              "[<matplotlib.lines.Line2D at 0x7f51904403d0>]"
            ]
          },
          "metadata": {},
          "execution_count": 12
        },
        {
          "output_type": "display_data",
          "data": {
            "text/plain": [
              "<Figure size 432x288 with 1 Axes>"
            ],
            "image/png": "[encoded data removed]"
          },
          "metadata": {
            "needs_background": "light"
          }
        }
      ],
      "source": [
        "# calculate the inverse of K with ridge regression, then the weights\n",
        "a = np.linalg.inv(K + 0.1 * np.eye(K.shape[0]))\n",
        "w = np.dot(y,a)\n",
        "\n",
        "x_pred = np.arange(0, 35, 0.2)\n",
        "# same as before, add column of ones to represent the constant b\n",
        "x_pred = np.stack([x_pred, np.ones(x_pred.shape[0])], axis=1).reshape(-1,2)\n",
        "y_pred = np.zeros(x_pred.shape[0])\n",
        "\n",
        "for i, x_p in enumerate(x_pred):\n",
        "    k = np.zeros(x.shape[0])\n",
        "    for j, row in enumerate(k):\n",
        "        k[j] = kernelFunc(x_p, x[j,:], kernel_type, param)\n",
        "    y_pred[i] = np.dot(w,k)\n",
        "\n",
        "plt.plot(x[:,0], y, 'o')\n",
        "plt.plot(x_pred[:,0], y_pred)"
      ]
    },
    {
      "cell_type": "markdown",
      "id": "5be4e206",
      "metadata": {
        "id": "5be4e206"
      },
      "source": [
        "## Putting all together\n",
        "\n",
        "This function performs Kernel Ridge Regression (KRR) from scratch (S) on a given training dataset and uses the resulting model to predict the labels of a given test dataset.\n",
        "\n",
        "The inputs to the function are:\n",
        "\n",
        "- X_train: a numpy array representing the training data.\n",
        "- y_train: a numpy array representing the target variable for the training data.\n",
        "- X_test: a numpy array representing the test data.\n",
        "- kernel_type: a string indicating the type of kernel to be used. \n",
        "- param: the parameter to be used in the kernel function.\n",
        "- lam: a scalar indicating the regularization parameter for the KRR model.\n",
        "\n",
        "The function first computes the kernel matrix $K$ using the training data and the kernel function specified by kernel_type and param. It then applies ridge regression to the kernel matrix to calculate the weights. Finally, it computes the predicted target values for the test data using the kernel function and the learned weights. The predicted labels are returned as an array."
      ]
    },
    {
      "cell_type": "markdown",
      "source": [
        "3. **Write this function.**"
      ],
      "metadata": {
        "id": "ply7cV4BImeQ"
      },
      "id": "ply7cV4BImeQ"
    },
    {
      "cell_type": "code",
      "execution_count": null,
      "id": "4ce64c07",
      "metadata": {
        "id": "4ce64c07"
      },
      "outputs": [],
      "source": [
        "def KRRS(X_train, y_train, X_test, kernel_type, param, lam):\n",
        "    \n",
        "    # compute kernel matrix\n",
        "    K = np.zeros((X_train.shape[0], X_train.shape[0]))\n",
        "   \n",
        "    for i, row in enumerate(K):\n",
        "      for j, col in enumerate(K.T):\n",
        "          K[i,j] = kernelFunc(X_train[i,:], X_train[j,:], kernel_type, param)\n",
        "\n",
        "    # calculate the inverse of K with ridge regression, then the weights\n",
        "    a = np.linalg.inv(K + lam * np.eye(K.shape[0]))\n",
        "    # w = np.dot(K, np.dot(a, y_train)) \n",
        "    w = np.dot(a, y_train)\n",
        "\n",
        "    # compute the predicted labels\n",
        "    y_pred = np.zeros((X_test.shape[0])) \n",
        " \n",
        "    for i, x_p in enumerate(X_test):\n",
        "      k = np.zeros(X_train.shape[0])\n",
        "      for j, row in enumerate(k):\n",
        "          k[j] = kernelFunc(x_p, X_train[j,:], kernel_type, param)\n",
        "      y_pred[i] = np.dot(k, w)\n",
        "\n",
        "    return y_pred"
      ]
    },
    {
      "cell_type": "code",
      "source": [
        "X_train = np.linspace(2,30,100)\n",
        "X_train = X_train[:, np.newaxis]\n",
        "X_train = np.stack([X_train[:,0], np.ones(X_train.shape[0])], axis=1).reshape(-1,2)\n",
        "y_train = X_train[:,0] + 4 * np.sin(X_train[:,0])+ 4 * np.random.rand(X_train.shape[0])\n",
        "\n",
        "X_test = np.arange(2, 30, 0.2)\n",
        "# same as before, add column of ones to represent the constant b\n",
        "X_test = np.stack([X_test, np.ones(X_test.shape[0])], axis=1).reshape(-1,2)\n",
        "y_test = X_test[:,0] + 4 * np.sin(X_test[:,0])+ 4 * np.random.rand(X_test.shape[0])\n",
        "\n",
        "y_pred = KRRS(X_train, y_train, X_test, 'Gaussian', 1, 0.1)"
      ],
      "metadata": {
        "id": "ycaQx5gPgxVx"
      },
      "id": "ycaQx5gPgxVx",
      "execution_count": null,
      "outputs": []
    },
    {
      "cell_type": "code",
      "source": [
        "plt.plot(X_test[:,0], y_test, 'o')\n",
        "plt.plot(X_test[:,0], y_pred, label = 'predicted')\n",
        "plt.legend()"
      ],
      "metadata": {
        "colab": {
          "base_uri": "https://localhost:8080/",
          "height": 287
        },
        "id": "HNmTq2F_mDPA",
        "outputId": "05abfb5c-83ce-491c-e3b7-09180330a553"
      },
      "id": "HNmTq2F_mDPA",
      "execution_count": null,
      "outputs": [
        {
          "output_type": "execute_result",
          "data": {
            "text/plain": [
              "<matplotlib.legend.Legend at 0x7f51903d1a30>"
            ]
          },
          "metadata": {},
          "execution_count": 15
        },
        {
          "output_type": "display_data",
          "data": {
            "text/plain": [
              "<Figure size 432x288 with 1 Axes>"
            ],
            "image/png": "[encoded data removed]"
          },
          "metadata": {
            "needs_background": "light"
          }
        }
      ]
    },
    {
      "cell_type": "markdown",
      "source": [
        "### Pre-made functions for KRR\n",
        "- always [sklearn](https://scikit-learn.org/stable/modules/generated/sklearn.kernel_ridge.KernelRidge.html)"
      ],
      "metadata": {
        "id": "yN8sxaQoOwyZ"
      },
      "id": "yN8sxaQoOwyZ"
    },
    {
      "cell_type": "code",
      "source": [
        "from sklearn.kernel_ridge import KernelRidge\n",
        "\n",
        "n_samples, n_features = 10, 5\n",
        "x_pred = np.arange(0, 35, 0.2)\n",
        "# same as before, add column of ones to represent the constant b\n",
        "x_pred = np.stack([x_pred, np.ones(x_pred.shape[0])], axis=1).reshape(-1,2)\n",
        "y_pred = np.zeros(x_pred.shape[0])\n",
        "rng = np.random.RandomState(0)\n",
        "krr = KernelRidge(alpha=1.0, kernel = 'rbf') # other options: linear, polynomial, exponential, laplacian, chi2, sigmoid\n",
        "krr.fit(X_train, y_train)\n",
        "y_pred_sk = krr.predict(X_test)"
      ],
      "metadata": {
        "id": "6v3XiaSCOv_3"
      },
      "id": "6v3XiaSCOv_3",
      "execution_count": null,
      "outputs": []
    },
    {
      "cell_type": "code",
      "source": [
        "plt.plot(X_test[:,0], y_test, 'o')\n",
        "plt.plot(X_test[:,0], y_pred_sk, label = 'predicted')\n",
        "plt.legend()"
      ],
      "metadata": {
        "colab": {
          "base_uri": "https://localhost:8080/",
          "height": 287
        },
        "id": "A3A6s0JtD9Ji",
        "outputId": "9e5d481d-996d-43d3-8fab-e92c83fe5ab5"
      },
      "id": "A3A6s0JtD9Ji",
      "execution_count": null,
      "outputs": [
        {
          "output_type": "execute_result",
          "data": {
            "text/plain": [
              "<matplotlib.legend.Legend at 0x7f516484cbe0>"
            ]
          },
          "metadata": {},
          "execution_count": 17
        },
        {
          "output_type": "display_data",
          "data": {
            "text/plain": [
              "<Figure size 432x288 with 1 Axes>"
            ],
            "image/png": "[encoded data removed]"
          },
          "metadata": {
            "needs_background": "light"
          }
        }
      ]
    }
  ],
  "metadata": {
    "kernelspec": {
      "display_name": "Python 3",
      "language": "python",
      "name": "python3"
    },
    "language_info": {
      "codemirror_mode": {
        "name": "ipython",
        "version": 3
      },
      "file_extension": ".py",
      "mimetype": "text/x-python",
      "name": "python",
      "nbconvert_exporter": "python",
      "pygments_lexer": "ipython3",
      "version": "3.7.10"
    },
    "colab": {
      "provenance": []
    }
  },
  "nbformat": 4,
  "nbformat_minor": 5
}