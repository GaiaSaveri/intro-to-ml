{
  "cells": [
    {
      "cell_type": "markdown",
      "metadata": {
        "id": "view-in-github",
        "colab_type": "text"
      },
      "source": [
        "<a href=\"https://colab.research.google.com/github/GaiaSaveri/intro-to-ml/blob/main/notebooks/Lab-1.Data_generation_and_visualization_for_regression_and_classification.ipynb\" target=\"_parent\"><img src=\"https://colab.research.google.com/assets/colab-badge.svg\" alt=\"Open In Colab\"/></a>"
      ]
    },
    {
      "cell_type": "markdown",
      "source": [
        "# Data generation and visualization for regression and classification\n",
        "\n",
        "**Goal**: generate synthetic data for both regression and classification tasks"
      ],
      "metadata": {
        "id": "cAXoTXYhdccT"
      },
      "id": "cAXoTXYhdccT"
    },
    {
      "cell_type": "code",
      "execution_count": null,
      "id": "5a7b298a",
      "metadata": {
        "id": "5a7b298a"
      },
      "outputs": [],
      "source": [
        "import numpy as np\n",
        "import matplotlib.pyplot as plt"
      ]
    },
    {
      "cell_type": "markdown",
      "id": "3517f29c",
      "metadata": {
        "id": "3517f29c"
      },
      "source": [
        "Data generation: regression, linear\n",
        "============================\n",
        "\n",
        "Model is $y=wx + ɛ$ with $\\varepsilon \\sim \\mathcal{N}(0, \\sigma)$"
      ]
    },
    {
      "cell_type": "code",
      "execution_count": null,
      "id": "ee29f827",
      "metadata": {
        "id": "ee29f827"
      },
      "outputs": [],
      "source": [
        "def datagen(d, points, m, M, w, sigma):\n",
        "    \"\"\"\n",
        "    Parameters\n",
        "    ----------\n",
        "    d : int\n",
        "        Dimension of each data sample\n",
        "    points : int\n",
        "        Number of points to be generated\n",
        "    m : float\n",
        "        Lower bound for the domain of the data points\n",
        "    M : float\n",
        "        Upper bound for the domain of the data points\n",
        "    w : float array of dim d \n",
        "        Vector of weights of the linear model\n",
        "    sigma : float\n",
        "        Standard deviation of the noise eps\n",
        "    \"\"\"\n",
        "    X = np.zeros((points, d))\n",
        "    for i in range(points):\n",
        "        X[i,:] = np.random.uniform(m, M, d)\n",
        "    eps = np.random.normal(0, sigma, points)\n",
        "    y = np.dot(X, w) + eps \n",
        "    return X, y"
      ]
    },
    {
      "cell_type": "code",
      "execution_count": null,
      "id": "c0777574",
      "metadata": {
        "id": "c0777574"
      },
      "outputs": [],
      "source": [
        "# usage example \n",
        "d = 1\n",
        "w = np.random.normal(0, 1, d)\n",
        "sigma = 1\n",
        "points = 100\n",
        "m = -10\n",
        "M = 10\n",
        "\n",
        "X, y = datagen(d, points, m, M, w, sigma)"
      ]
    },
    {
      "cell_type": "code",
      "execution_count": null,
      "id": "6dc78632",
      "metadata": {
        "scrolled": true,
        "id": "6dc78632"
      },
      "outputs": [],
      "source": [
        "# plotting the generated dataset\n",
        "fig, ax = plt.subplots()\n",
        "ax.scatter(X, y, c='b')\n",
        "ax.set_title('Data')\n",
        "plt.ylim([m, M])\n",
        "\n",
        "fig.show()"
      ]
    },
    {
      "cell_type": "markdown",
      "id": "5cd15f2d",
      "metadata": {
        "id": "5cd15f2d"
      },
      "source": [
        "1. Add different level of noise (how do you get noiseless data?) and interpolating line to the plot"
      ]
    },
    {
      "cell_type": "code",
      "source": [],
      "metadata": {
        "id": "riGw5ihfouAM"
      },
      "id": "riGw5ihfouAM",
      "execution_count": null,
      "outputs": []
    },
    {
      "cell_type": "markdown",
      "id": "eb467e67",
      "metadata": {
        "id": "eb467e67"
      },
      "source": [
        "Data generation: classification\n",
        "=========================\n",
        "\n",
        "We want to generate  2D data for classification  in the form of 2 (or more) gaussian clouds with specific means and variances."
      ]
    },
    {
      "cell_type": "code",
      "execution_count": null,
      "id": "f4d4ff49",
      "metadata": {
        "id": "f4d4ff49"
      },
      "outputs": [],
      "source": [
        "def mixGauss(means, sigmas, n):\n",
        "    \"\"\"\n",
        "    Parameters\n",
        "    ----------\n",
        "    means : matrix/list of float of dim n_classes x dim_data (d)\n",
        "        Means of the Gaussian functions\n",
        "    sigmas : array/list of float of dim n_classes\n",
        "        Standard deviation of the Gaussian functions\n",
        "    n : int\n",
        "        Number of points for each class\n",
        "    \"\"\"\n",
        "    means = np.array(means)\n",
        "    sigmas = np.array(sigmas)\n",
        "\n",
        "    d = np.shape(means)[1] # the means matrix is of n_classes x dim_data\n",
        "    num_classes = sigmas.size # the number of variances is the number of classes\n",
        "    \n",
        "    data = np.full((n * num_classes, d), np.inf)\n",
        "    labels = np.zeros(n * num_classes)\n",
        "\n",
        "    # iterate over classes\n",
        "    for idx, sigma in enumerate(sigmas):\n",
        "        # generates n points around means[idx] with cov sigma[idx] \n",
        "        data[idx * n:(idx + 1) * n] = np.random.multivariate_normal(\n",
        "            mean=means[idx], cov=np.eye(d) * sigmas[idx] ** 2, size=n)   \n",
        "        labels[idx * n:(idx + 1) * n] = idx \n",
        "        \n",
        "    if(num_classes == 2):\n",
        "        labels[labels == 0] = -1\n",
        "\n",
        "    return data, labels"
      ]
    },
    {
      "cell_type": "code",
      "execution_count": null,
      "id": "3463c490",
      "metadata": {
        "id": "3463c490"
      },
      "outputs": [],
      "source": [
        "# usage example \n",
        "means = [[3,0],[0,6]]\n",
        "sigmas = [0.9,0.9]\n",
        "n = 100\n",
        "\n",
        "X, labels = mixGauss(means, sigmas, n)"
      ]
    },
    {
      "cell_type": "code",
      "execution_count": null,
      "id": "b33bfb84",
      "metadata": {
        "id": "b33bfb84"
      },
      "outputs": [],
      "source": [
        "# plotting the generated dataset\n",
        "fig, ax = plt.subplots()\n",
        "ax.scatter(X[:,0], X[:,1], s=70, c=labels, alpha=0.8)\n",
        "fig.show()"
      ]
    },
    {
      "cell_type": "markdown",
      "id": "60730475",
      "metadata": {
        "id": "60730475"
      },
      "source": [
        "Label Noise\n",
        "==========\n",
        "\n",
        "Add some noise to the dataset for binary classification by randomly flipping some labels"
      ]
    },
    {
      "cell_type": "code",
      "execution_count": null,
      "id": "0ce61cc3",
      "metadata": {
        "id": "0ce61cc3"
      },
      "outputs": [],
      "source": [
        "def labelsnoise(perc, labels):\n",
        "    \"\"\"\n",
        "    Parameters\n",
        "    ----------\n",
        "    perc : float \n",
        "        Percentage of labels to be flipped\n",
        "    labels: array of int of dim n_classes\n",
        "        Array containing labels idxs\n",
        "    \"\"\"\n",
        "    points = np.shape(labels)[0]\n",
        "    noisylabels = np.copy(np.squeeze(labels))\n",
        "    n_flips = int(np.floor(points * perc / 100)) # floor: nearest integer by defect\n",
        "    idx_to_flip = np.random.choice(points, size=n_flips, replace=False) # replace is false since the same index cannot be chosen twice\n",
        "    noisylabels[idx_to_flip] = -noisylabels[idx_to_flip] # for binary this turns -1 into 1 and viceversa\n",
        "    return noisylabels\n"
      ]
    },
    {
      "cell_type": "code",
      "execution_count": null,
      "id": "4f9c7abb",
      "metadata": {
        "id": "4f9c7abb"
      },
      "outputs": [],
      "source": [
        "# usage example \n",
        "noisylabels = labelsnoise(50, labels)\n",
        "noisylabels"
      ]
    },
    {
      "cell_type": "markdown",
      "id": "35e1c7f3",
      "metadata": {
        "id": "35e1c7f3"
      },
      "source": [
        "Alternative for binary classification: linear\n",
        "==================================\n",
        "\n",
        "Generate a dataset for classification in which points are linearly separated, i.e. there exists a line $y = ax + b$ that separes the classes"
      ]
    },
    {
      "cell_type": "code",
      "execution_count": null,
      "id": "ce1d7955",
      "metadata": {
        "id": "ce1d7955"
      },
      "outputs": [],
      "source": [
        "def binary(a, b, points, m, M, d):\n",
        "    \"\"\"\n",
        "    Parameters\n",
        "    ----------\n",
        "    a : float\n",
        "        Angular coefficient of the separating line\n",
        "    b : float\n",
        "        Intercept of the separating line\n",
        "    points : int\n",
        "        Number of points to be generated\n",
        "    m : float\n",
        "        Lower bound for the domain of the data points\n",
        "    M : float\n",
        "        Upper bound for the domain of the data points\n",
        "    d : int\n",
        "        Dimension of each data sample\n",
        "    \"\"\"\n",
        "    X = np.zeros((points,d))\n",
        "    labels = np.zeros(points)\n",
        "    \n",
        "    for i in range(points):\n",
        "        X[i,:] = np.random.uniform(m, M, d)\n",
        "    \n",
        "    labels[X[:,1]-a*X[:,0]-b>=0] = 1\n",
        "    labels[X[:,1]-a*X[:,0]-b<0] = -1\n",
        "    return X, labels    "
      ]
    },
    {
      "cell_type": "code",
      "execution_count": null,
      "id": "fb679dbe",
      "metadata": {
        "id": "fb679dbe"
      },
      "outputs": [],
      "source": [
        "# usage example\n",
        "a=1\n",
        "b=0\n",
        "d=2\n",
        "points=200\n",
        "m=-10\n",
        "M=10\n",
        "\n",
        "X,labels=binary(a,b,points,m,M,d)\n",
        "\n",
        "# plotting the generated dataset\n",
        "fig,ax=plt.subplots()\n",
        "ax.scatter(X[:,0],X[:,1],s=70, c=labels, alpha=0.8)\n",
        "ax.plot(X,a*X+b)\n",
        "ax.set_title('Data and separator')\n",
        "plt.show()"
      ]
    },
    {
      "cell_type": "markdown",
      "id": "7d278d0f",
      "metadata": {
        "id": "7d278d0f"
      },
      "source": [
        "Alternative for binary classification: non-linear\n",
        "==============================================\n",
        "\n",
        "Add some noise to the binary classification dataset by randomly flipping some labels;\n",
        "\n",
        "Generate Binary classification datasets which are separated by non-linear functions."
      ]
    },
    {
      "cell_type": "code",
      "execution_count": null,
      "id": "675d9a91",
      "metadata": {
        "id": "675d9a91"
      },
      "outputs": [],
      "source": [
        "def flipLabels(perc, Y):\n",
        "    \"\"\"\n",
        "    Parameters\n",
        "    ----------\n",
        "    perc : float \n",
        "        Percentage of labels to be flipped\n",
        "    Y: array of int of dim n_points\n",
        "        Array containing the class idx of each data point\n",
        "    \"\"\"\n",
        "    if perc < 1 or perc > 100:\n",
        "        print(\"p should be a percentage value between 0 and 100.\")\n",
        "        return -1\n",
        "\n",
        "    if any(np.abs(Y) != 1):\n",
        "        print(\"The values of Ytr should be +1 or -1.\")\n",
        "        return -1\n",
        "\n",
        "    Y_noisy = np.copy(np.squeeze(Y))\n",
        "    if Y_noisy.ndim > 1:\n",
        "        print(\"Please supply a label array with only one dimension\")\n",
        "        return -1\n",
        "\n",
        "    n = Y_noisy.size\n",
        "    n_flips = int(np.floor(n * perc / 100))\n",
        "    idx_to_flip = np.random.choice(n, size=n_flips, replace=False)\n",
        "    Y_noisy[idx_to_flip] = -Y_noisy[idx_to_flip]\n",
        "\n",
        "    return Y_noisy"
      ]
    },
    {
      "cell_type": "code",
      "source": [
        "n = 200 # number of points per class\n",
        "D = 2 # dimension of the points\n",
        "\n",
        "fig = plt.figure(figsize=(10,7)) \n",
        "ax0 = fig.add_subplot(2, 2, 1)\n",
        "ax1 = fig.add_subplot(2, 2, 2)\n",
        "ax2 = fig.add_subplot(2, 2, 3)\n",
        "ax3 = fig.add_subplot(2, 2, 4)\n",
        "\n",
        "\n",
        "# linear case\n",
        "m = 0.9\n",
        "q = 0\n",
        "\n",
        "# bounds (assume they are the same for all dimensions)\n",
        "low_D = -10\n",
        "high_D = 10\n",
        "\n",
        "X = np.zeros((n, D))\n",
        "Y = np.zeros(n)\n",
        "\n",
        "# sampling of the X\n",
        "for i in range(D):\n",
        "    X[:,i] = np.random.uniform(low_D, high_D, size=n)\n",
        "    \n",
        "# assigning the labels depending on the position of the sample with respect to the linear separator\n",
        "Y[X[:,1] - (X[:,0] * m + q) > 0] = 1 \n",
        "Y[Y==0] = -1\n",
        "\n",
        "# add some noise\n",
        "Yn = flipLabels(10, Y)\n",
        "\n",
        "# plot the samples and the separator\n",
        "ax0.set_title(\"Linear, 10% flipped labels\")\n",
        "ax0.scatter(X[:,0], X[:,1], s=70, c=Yn, alpha=0.8)\n",
        "ax0.plot(X[:,0], X[:,0] * m + q)\n",
        "ax0.set_xlim((low_D, high_D))\n",
        "ax0.set_ylim((low_D, high_D))\n",
        "\n",
        "\n",
        "# non-linear separators case 1\n",
        "\n",
        "a = 0.5\n",
        "b = 0.9\n",
        "c = -9\n",
        "\n",
        "X = np.zeros((n, D))\n",
        "Y = np.zeros(n)\n",
        "\n",
        "for i in range(D):\n",
        "    X[:,i] = np.random.uniform(low_D, high_D, size=n)\n",
        "    \n",
        "Y[X[:,1] - (X[:,0]**2 * a + X[:,0]*b + c) > 0] = 1 \n",
        "Y[Y==0] = -1\n",
        "\n",
        "Yn = flipLabels(10, Y)\n",
        "\n",
        "ax1.set_title(\"Non-Linear ax^2+b, 10% flipped labels\")\n",
        "ax1.scatter(X[:,0], X[:,1], s=70, c=Yn, alpha=0.8)\n",
        "ax1.plot(np.sort(X[:,0]), np.sort(X[:,0])**2 * a + np.sort(X[:,0])*b + c)\n",
        "ax1.set_xlim((low_D, high_D))\n",
        "ax1.set_ylim((low_D, high_D))\n",
        "\n",
        "# non-linear case 2\n",
        "\n",
        "alpha = 7\n",
        "beta = 1.5\n",
        "\n",
        "X = np.zeros((n, D))\n",
        "Y = np.zeros(n)\n",
        "\n",
        "for i in range(D):\n",
        "    X[:,i] = np.random.uniform(low_D, high_D, size=n)\n",
        "    \n",
        "Y[X[:,1] - alpha*np.sin(beta*X[:,0]) > 0] = 1 \n",
        "Y[Y==0] = -1\n",
        "\n",
        "Yn = flipLabels(10, Y)\n",
        "\n",
        "ax2.set_title(\"Non-Linear a sin(bx), 10% flipped labels\")\n",
        "ax2.scatter(X[:,0], X[:,1], s=70, c=Yn, alpha=0.8)\n",
        "ax2.plot(np.sort(X[:,0]), alpha*np.sin(beta*np.sort(X[:,0])))\n",
        "ax2.set_xlim((low_D, high_D))\n",
        "ax2.set_ylim((low_D, high_D))\n",
        "\n",
        "# non-linear case 3\n",
        "\n",
        "alpha = 7\n",
        "beta = 0.5\n",
        "\n",
        "X = np.zeros((n, D))\n",
        "Y = np.zeros(n)\n",
        "\n",
        "for i in range(D):\n",
        "    X[:,i] = np.random.uniform(low_D, high_D, size=n)\n",
        "    \n",
        "Y[X[:,1] - np.exp(-X[:,0]/2) > 0] = 1 \n",
        "Y[Y==0] = -1\n",
        "\n",
        "Yn = flipLabels(10, Y)\n",
        "\n",
        "ax3.set_title(\"Non-Linear -exp(x/2), 10% flipped labels\")\n",
        "ax3.scatter(X[:,0], X[:,1], s=70, c=Yn, alpha=0.8)\n",
        "ax3.plot(np.sort(X[:,0]), np.exp(-np.sort(X[:,0]/2)))\n",
        "ax3.set_xlim((low_D, high_D))\n",
        "ax3.set_ylim((low_D, high_D))\n",
        "             \n",
        "plt.tight_layout()"
      ],
      "metadata": {
        "id": "f9CwmKruPxUn"
      },
      "id": "f9CwmKruPxUn",
      "execution_count": null,
      "outputs": []
    },
    {
      "cell_type": "markdown",
      "id": "5ce2377f",
      "metadata": {
        "id": "5ce2377f"
      },
      "source": [
        "More than 2 Gaussians\n",
        "===================\n",
        "\n",
        "Generate  2D data for (binary) classification  in the form of more than $2$ gaussian clouds with specific means and variances.\n",
        "\n",
        "**Hint**: first generate the dataset with 4 classes, then transform the labels to get the binary labels... function `np.mod()` might be useful! "
      ]
    },
    {
      "cell_type": "code",
      "source": [
        "# generate two datasets: binary (2 classes) and non binary (4 classes) \n",
        "# classification with more than two gaussians\n"
      ],
      "metadata": {
        "id": "oPb6-b3kpUbC"
      },
      "id": "oPb6-b3kpUbC",
      "execution_count": null,
      "outputs": []
    },
    {
      "cell_type": "code",
      "source": [
        "# plot the two generated datasets\n",
        "fig = plt.figure(figsize=(10,7)) \n",
        "ax0 = fig.add_subplot(1, 2, 1)\n",
        "ax1 = fig.add_subplot(1, 2, 2)\n",
        "\n",
        "ax0.set_title(\"Dataset 1 - 4 classes\")\n",
        "# ax0.scatter() \n",
        "\n",
        "ax1.set_title(\"Dataset 2 - 2 classes\")\n",
        "# ax1.scatter()\n",
        "\n",
        "plt.tight_layout()"
      ],
      "metadata": {
        "id": "BlbOf9kYpePv"
      },
      "id": "BlbOf9kYpePv",
      "execution_count": null,
      "outputs": []
    },
    {
      "cell_type": "markdown",
      "id": "26990347",
      "metadata": {
        "id": "26990347"
      },
      "source": [
        "Extend the flipping to multiple gaussians"
      ]
    },
    {
      "cell_type": "code",
      "execution_count": null,
      "id": "a05d411e",
      "metadata": {
        "id": "a05d411e"
      },
      "outputs": [],
      "source": []
    }
  ],
  "metadata": {
    "kernelspec": {
      "display_name": "Python 3",
      "language": "python",
      "name": "python3"
    },
    "language_info": {
      "codemirror_mode": {
        "name": "ipython",
        "version": 3
      },
      "file_extension": ".py",
      "mimetype": "text/x-python",
      "name": "python",
      "nbconvert_exporter": "python",
      "pygments_lexer": "ipython3",
      "version": "3.7.10"
    },
    "colab": {
      "provenance": [],
      "include_colab_link": true
    }
  },
  "nbformat": 4,
  "nbformat_minor": 5
}