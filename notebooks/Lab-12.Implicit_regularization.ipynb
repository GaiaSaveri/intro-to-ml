{
  "cells": [
    {
      "cell_type": "markdown",
      "id": "dc23f7f3",
      "metadata": {
        "id": "dc23f7f3"
      },
      "source": [
        "# Implicit Regularization\n",
        "\n",
        "<a target=\"_blank\" href=\"https://colab.research.google.com/github/GaiaSaveri/intro-to-ml/blob/main/notebooks/Lab-12.Implicit_regularization.ipynb\">\n",
        "  <img src=\"https://colab.research.google.com/assets/colab-badge.svg\" alt=\"Open In Colab\"/>\n",
        "</a>\n",
        "\n",
        "In this lab, we will study the *implicit bias* induced by *Gradient Descent* optimization in the simple case of *linear regression*, fitted on a toy dataset. In particular, we will show that GD-optimized weights converge to the **least norm** solution of the linear regression problem.\n",
        "\n",
        "Then, we will study how different initializations and different optimizers affect the weights learned by a *Convolutional neural network*.\n",
        "\n",
        "\n",
        "An analysis of implicit regularization (aka implicit bias) induced by *Stochastic Gradient Descent* in *full-width linear fully-connected* and *full-width linear convolutional* neural networks is provided in [this paper](https://arxiv.org/abs/1806.00468).\n",
        "\n"
      ]
    },
    {
      "cell_type": "code",
      "execution_count": null,
      "id": "7f91a3f4",
      "metadata": {
        "id": "7f91a3f4"
      },
      "outputs": [],
      "source": [
        "import numpy as np\n",
        "import matplotlib.pyplot as plt\n",
        "from scipy import linalg as LA\n",
        "import random\n",
        "\n",
        "random.seed(546)\n",
        "np.random.seed(987)"
      ]
    },
    {
      "cell_type": "markdown",
      "source": [
        "## Linear regression\n"
      ],
      "metadata": {
        "id": "dnrReSSNIk86"
      },
      "id": "dnrReSSNIk86"
    },
    {
      "cell_type": "markdown",
      "source": [
        "Let's first create a function which generates data. You've already seen this in many previous labs."
      ],
      "metadata": {
        "id": "OBNgdeBFJfxC"
      },
      "id": "OBNgdeBFJfxC"
    },
    {
      "cell_type": "code",
      "execution_count": null,
      "id": "37e67ec4",
      "metadata": {
        "id": "37e67ec4"
      },
      "outputs": [],
      "source": [
        "def datagen(d, points, m, M, w, sigma):\n",
        "    X = np.zeros((points,d))\n",
        "    for i in range(points):\n",
        "        X[i,:] = np.random.uniform(m, M, d)\n",
        "    eps = np.random.normal(0, sigma, points)\n",
        "    y = np.dot(X,w) + eps \n",
        "    return X, y"
      ]
    },
    {
      "cell_type": "markdown",
      "source": [
        "We can visualise the data created if $d=1$."
      ],
      "metadata": {
        "id": "1O5SWsZzJqTy"
      },
      "id": "1O5SWsZzJqTy"
    },
    {
      "cell_type": "code",
      "execution_count": null,
      "id": "27f7e284",
      "metadata": {
        "id": "27f7e284"
      },
      "outputs": [],
      "source": [
        "d = 1\n",
        "w = np.random.normal(0, 1, d)\n",
        "sigma = 3\n",
        "points = 100\n",
        "m = -10\n",
        "M = 10\n",
        "\n",
        "X, y = datagen(d, points, m, M, w, sigma)\n",
        "fig, ax =plt.subplots()\n",
        "ax.scatter(X,y)\n",
        "ax.plot(X,np.dot(X,w), color = \"red\")\n",
        "ax.set_title('Data')\n",
        "\n",
        "fig.show()"
      ]
    },
    {
      "cell_type": "markdown",
      "source": [
        "Let's now create the data set that we will use, in a higher dimension."
      ],
      "metadata": {
        "id": "f3cJmwGuJ4gp"
      },
      "id": "f3cJmwGuJ4gp"
    },
    {
      "cell_type": "code",
      "source": [
        "d = 10\n",
        "w = np.random.normal(0,1,d)\n",
        "sigma = 3\n",
        "points = 1000\n",
        "m = -10\n",
        "M = 10\n",
        "\n",
        "X, y = datagen(d, points, m, M, w, sigma)"
      ],
      "metadata": {
        "id": "a8MrMWn0JajR"
      },
      "id": "a8MrMWn0JajR",
      "execution_count": null,
      "outputs": []
    },
    {
      "cell_type": "markdown",
      "source": [
        "In the case of **linear regression**, fitted by means of *least squares*, we optimize the following loss function:\n",
        "$$\n",
        "L=\\|y-Xw\\|_{2}^{2}.\n",
        "$$\n",
        "\n",
        "If we choose the *GD* optimization algorithm, we perform weight updates proportional to the gradient of the loss function:\n",
        "$$\n",
        "\\nabla_{w} L = -X(y-Xw).\n",
        "$$\n",
        "\n",
        "Additionally, notice that the **least norm** solution of the *linear regression* problem is given by:\n",
        "$$\n",
        "w^{*}=(X^{T}X + \\lambda I)^{-1}X^{T}y.\n",
        "$$"
      ],
      "metadata": {
        "id": "HR9TVLIEUfiA"
      },
      "id": "HR9TVLIEUfiA"
    },
    {
      "cell_type": "markdown",
      "source": [
        "##### 1. Compute the least norm solution of the linear regression problem."
      ],
      "metadata": {
        "id": "FqHXgO-TFf4O"
      },
      "id": "FqHXgO-TFf4O"
    },
    {
      "cell_type": "code",
      "source": [
        "def least_norm_reg(X, y, lam):\n",
        "    # YOUR CODE\n",
        "    pass"
      ],
      "metadata": {
        "id": "DwUVqSemFqzE"
      },
      "id": "DwUVqSemFqzE",
      "execution_count": null,
      "outputs": []
    },
    {
      "cell_type": "markdown",
      "source": [
        "##### 2. Perform GD optimization of the linear regression problem iteratively, storing the weights at each iteration."
      ],
      "metadata": {
        "id": "6qN7OsqXGfLK"
      },
      "id": "6qN7OsqXGfLK"
    },
    {
      "cell_type": "code",
      "source": [
        "# gradient of the MSE corresponding to the ordinary least squares solution for linear regression\n",
        "def OLSGradient(X, y, w):\n",
        "    # YOUR CODE\n",
        "    pass\n",
        "\n",
        "# gradient descent for linear regression with learning rate gamma\n",
        "def GD(X, y, Iter, gamma):\n",
        "    # YOUR CODE\n",
        "    pass"
      ],
      "metadata": {
        "id": "zTsrBIr5HGVy"
      },
      "id": "zTsrBIr5HGVy",
      "execution_count": null,
      "outputs": []
    },
    {
      "cell_type": "markdown",
      "source": [
        "##### 3. Plot the evolution of the weights during GD optimization, showing their relation with the least norm solution."
      ],
      "metadata": {
        "id": "Usgf8T43HosN"
      },
      "id": "Usgf8T43HosN"
    },
    {
      "cell_type": "code",
      "source": [
        "# YOUR CODE"
      ],
      "metadata": {
        "id": "JIxQK2-7JHEr"
      },
      "id": "JIxQK2-7JHEr",
      "execution_count": null,
      "outputs": []
    },
    {
      "cell_type": "markdown",
      "source": [
        "## Fully Connected Neural Network\n",
        "\n",
        "*Remember to enable GPU acceleration! `Runtime` > `Change runtime type` > `Hardware acceleration` > `GPU`*"
      ],
      "metadata": {
        "id": "JYNvh7QOolNS"
      },
      "id": "JYNvh7QOolNS"
    },
    {
      "cell_type": "code",
      "source": [
        "import torch\n",
        "import torch.nn as nn\n",
        "import torch.nn.functional as F\n",
        "import torchvision\n",
        "import torchvision.transforms as transforms\n",
        "from time import time\n",
        "\n",
        "torch.manual_seed(0)"
      ],
      "metadata": {
        "id": "VOq2SNzlrwjy"
      },
      "id": "VOq2SNzlrwjy",
      "execution_count": null,
      "outputs": []
    },
    {
      "cell_type": "markdown",
      "source": [
        "### Loading the data set\n",
        "\n",
        "The [CIFAR-10](https://www.cs.toronto.edu/~kriz/cifar.html) data set consists of $60000$ $32x32$ colour images in $10$ classes, with $6000$ images per class. There are $50000$ training images and $10000$ test images. \n"
      ],
      "metadata": {
        "id": "7ZavONBp3wFu"
      },
      "id": "7ZavONBp3wFu"
    },
    {
      "cell_type": "code",
      "source": [
        "BATCH_SIZE = 32\n",
        "\n",
        "# Convert data to PyTorch tensor form and normalise it\n",
        "# The output of torchvision datasets are PILImage images of range [0, 1]. We transform them to Tensors of normalized range [-1, 1].\n",
        "data_transforms = transforms.Compose([transforms.ToTensor(), transforms.Normalize((0.5, 0.5, 0.5), (0.5, 0.5, 0.5))])\n",
        "\n",
        "## download and load training dataset\n",
        "trainset = torchvision.datasets.CIFAR10(root='./data', train=True, download=True, transform=data_transforms)\n",
        "trainloader = torch.utils.data.DataLoader(trainset, batch_size=BATCH_SIZE, shuffle=True)"
      ],
      "metadata": {
        "id": "CbX-k_qx3VWO"
      },
      "id": "CbX-k_qx3VWO",
      "execution_count": null,
      "outputs": []
    },
    {
      "cell_type": "markdown",
      "source": [
        "#### Visualising the data"
      ],
      "metadata": {
        "id": "fNLade_U46Jr"
      },
      "id": "fNLade_U46Jr"
    },
    {
      "cell_type": "code",
      "source": [
        "num_row = 2\n",
        "num_col = 5\n",
        "\n",
        "classes = trainset.classes\n",
        "\n",
        "fig, axes = plt.subplots(num_row, num_col, figsize=(1.5*num_col, 2*num_row))\n",
        "for i in range(num_row*num_col):\n",
        "    ax = axes[i//num_col, i%num_col]\n",
        "    ax.imshow(trainset.data[i], cmap='gray')\n",
        "    ax.set_title('Label: {}'.format(classes[trainset.targets[i]]))\n",
        "plt.tight_layout()\n",
        "plt.show()"
      ],
      "metadata": {
        "id": "zDbQ8nJX3oHN"
      },
      "id": "zDbQ8nJX3oHN",
      "execution_count": null,
      "outputs": []
    },
    {
      "cell_type": "code",
      "source": [
        "# printing data shapes \n",
        "print(\"Single image dimensions:\", trainset.data[0].shape)\n",
        "for images, labels in trainloader:\n",
        "    print(\"Image batch dimensions:\", images.shape)\n",
        "    print(\"Image label dimensions:\", labels.shape)\n",
        "    break"
      ],
      "metadata": {
        "id": "DpKETKQ543WG"
      },
      "id": "DpKETKQ543WG",
      "execution_count": null,
      "outputs": []
    },
    {
      "cell_type": "markdown",
      "source": [
        "### Defining the model"
      ],
      "metadata": {
        "id": "YGn6YOz-5Cr8"
      },
      "id": "YGn6YOz-5Cr8"
    },
    {
      "cell_type": "markdown",
      "source": [
        "##### 4. Define a CNN with one convolutional layer and two linear layers (be careful of the dimensions!)"
      ],
      "metadata": {
        "id": "TBCGu5WWWPYz"
      },
      "id": "TBCGu5WWWPYz"
    },
    {
      "cell_type": "code",
      "source": [
        "class CNN(nn.Module):\n",
        "    # YOUR CODE\n",
        "    pass"
      ],
      "metadata": {
        "id": "F51zAU5_r-6v"
      },
      "id": "F51zAU5_r-6v",
      "execution_count": null,
      "outputs": []
    },
    {
      "cell_type": "markdown",
      "source": [
        "#### Defining the auxiliary functions"
      ],
      "metadata": {
        "id": "GXS25ZnO5Iom"
      },
      "id": "GXS25ZnO5Iom"
    },
    {
      "cell_type": "code",
      "source": [
        "# functions\n",
        "\n",
        "def get_accuracy(logit, target):\n",
        "    corrects = (torch.max(logit, 1)[1].view(target.size()).data == target.data).sum()\n",
        "    accuracy = 100.0 * corrects / target.size(0)\n",
        "    return accuracy.item()\n",
        "\n",
        "\n",
        "def compute_weight_norm(model):\n",
        "    norm = 0.0\n",
        "    for name, param in model.named_parameters():\n",
        "      if \"weight\" in name:\n",
        "        norm += torch.norm(param.data, p= 2)\n",
        "    return norm.cpu().item()\n",
        "\n",
        "\n",
        "def train_model(model, num_epochs, trainloader, criterion, optimizer):\n",
        "\n",
        "    device = torch.device(\"cuda:0\" if torch.cuda.is_available() else \"cpu\")\n",
        "\n",
        "    model = model.to(device)\n",
        "\n",
        "    losses = []\n",
        "    accs = []\n",
        "\n",
        "    norms = []\n",
        "    \n",
        "    for epoch in range(num_epochs):\n",
        "        train_running_loss = 0.0\n",
        "        train_acc = 0.0\n",
        "\n",
        "        # Set the model to training mode\n",
        "        model = model.train()\n",
        "        start = time()\n",
        "        ## training step\n",
        "        for i, (images, labels) in enumerate(trainloader):\n",
        "            \n",
        "            images = images.to(device)\n",
        "            labels = labels.to(device)\n",
        "\n",
        "            ## forward + backprop + loss\n",
        "            logits = model(images)\n",
        "            loss = criterion(logits, labels)\n",
        "\n",
        "            # Reset the gradients to zero\n",
        "            optimizer.zero_grad()\n",
        "\n",
        "            loss.backward()\n",
        "\n",
        "            ## update model params\n",
        "            optimizer.step()\n",
        "\n",
        "            train_running_loss += loss.item()\n",
        "            train_acc += get_accuracy(logits, labels)\n",
        "        \n",
        "            \n",
        "        losses.append(train_running_loss / i)\n",
        "        accs.append(train_acc/i)\n",
        "        \n",
        "        norms.append(compute_weight_norm(model))\n",
        "        model.eval()\n",
        "        print(f\"Epoch: {epoch+1} | Loss: {train_running_loss / i:.4f} | Train Accuracy: {train_acc/i:.4f} | Time: {time()-start:.2f}\") \n",
        "    \n",
        "    return losses, accs, norms"
      ],
      "metadata": {
        "id": "EV7So8aLtHyX"
      },
      "id": "EV7So8aLtHyX",
      "execution_count": null,
      "outputs": []
    },
    {
      "cell_type": "markdown",
      "source": [
        "#### Training with different optimizers\n",
        "\n",
        "An optimizer is an algorithm that adjusts the weights of a model in order to minimize its loss function. There are many different optimizers available in deep learning, each with its own strengths and weaknesses, and its choice depends on the specific problem and model being trained, and is often a matter of trial and error.   \n",
        "Different optimizers can affect the weights of a model in different ways because they use different algorithms to update the weights during training."
      ],
      "metadata": {
        "id": "1qPW_bfo5WbY"
      },
      "id": "1qPW_bfo5WbY"
    },
    {
      "cell_type": "markdown",
      "source": [
        "##### 5. Train the model with two different optimizers and see in a plot how the weights differ ([hint](https://pytorch.org/docs/stable/optim.html))."
      ],
      "metadata": {
        "id": "JL-tqSupov3N"
      },
      "id": "JL-tqSupov3N"
    },
    {
      "cell_type": "code",
      "source": [
        "# YOUR CODE"
      ],
      "metadata": {
        "id": "MypiUDohpQmV"
      },
      "id": "MypiUDohpQmV",
      "execution_count": null,
      "outputs": []
    },
    {
      "cell_type": "markdown",
      "source": [
        "#### Training with different initializations\n",
        "\n",
        "By default, linear layers are initialised with a uniform distribution bounded by $\\dfrac{1}{\\sqrt{in features}}$, while conv2d layers by a uniform distribution bouded by $\\dfrac{1}{\\sqrt{(in features) \\cdot k}}$ , where $k$ is the kernel size.\n",
        "\n",
        "By changing the default kernel initialization, the weights of the model vary."
      ],
      "metadata": {
        "id": "k2T6q471WuLj"
      },
      "id": "k2T6q471WuLj"
    },
    {
      "cell_type": "markdown",
      "source": [
        "##### 6. Try to change the model weight initialization and see how they compare with the ones computed with the default one ([hint](https://pytorch.org/docs/stable/nn.init.html))."
      ],
      "metadata": {
        "id": "Ex4t8hHDZ9dR"
      },
      "id": "Ex4t8hHDZ9dR"
    },
    {
      "cell_type": "code",
      "source": [
        "# YOUR CODE"
      ],
      "metadata": {
        "id": "XTSi9Lpba6tu"
      },
      "id": "XTSi9Lpba6tu",
      "execution_count": null,
      "outputs": []
    }
  ],
  "metadata": {
    "kernelspec": {
      "display_name": "Python 3",
      "language": "python",
      "name": "python3"
    },
    "language_info": {
      "codemirror_mode": {
        "name": "ipython",
        "version": 3
      },
      "file_extension": ".py",
      "mimetype": "text/x-python",
      "name": "python",
      "nbconvert_exporter": "python",
      "pygments_lexer": "ipython3",
      "version": "3.7.10"
    },
    "colab": {
      "provenance": []
    },
    "accelerator": "GPU",
    "gpuClass": "standard"
  },
  "nbformat": 4,
  "nbformat_minor": 5
}