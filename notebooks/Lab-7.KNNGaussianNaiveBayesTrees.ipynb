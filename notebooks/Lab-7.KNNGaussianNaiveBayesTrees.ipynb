{
  "nbformat": 4,
  "nbformat_minor": 0,
  "metadata": {
    "colab": {
      "provenance": [],
      "authorship_tag": "ABX9TyPmYNiZQX8seoPvc2kS8QGa",
      "include_colab_link": true
    },
    "kernelspec": {
      "name": "python3",
      "display_name": "Python 3"
    },
    "language_info": {
      "name": "python"
    }
  },
  "cells": [
    {
      "cell_type": "markdown",
      "metadata": {
        "id": "view-in-github",
        "colab_type": "text"
      },
      "source": [
        "<a href=\"https://colab.research.google.com/github/GaiaSaveri/intro-to-ml/blob/main/notebooks/Lab-7.KNNGaussianNaiveBayesTrees.ipynb\" target=\"_parent\"><img src=\"https://colab.research.google.com/assets/colab-badge.svg\" alt=\"Open In Colab\"/></a>"
      ]
    },
    {
      "cell_type": "markdown",
      "source": [
        "# Classification with KNN, Trees and Gaussian Naive Bayes"
      ],
      "metadata": {
        "id": "Lo66foonmvxg"
      }
    },
    {
      "cell_type": "code",
      "execution_count": 2,
      "metadata": {
        "id": "v3kH50wbmjBL"
      },
      "outputs": [],
      "source": [
        "import pandas as pd\n",
        "import numpy as np\n",
        "import matplotlib.pyplot as plt\n",
        "import os"
      ]
    },
    {
      "cell_type": "markdown",
      "source": [
        "Load and split the data from the Unsupervise Learning Dataset (Lab 5, Dry Bean Dataset):"
      ],
      "metadata": {
        "id": "S_cnE38km64G"
      }
    },
    {
      "cell_type": "code",
      "source": [
        "FFILE = './Dry_Bean_Dataset.xlsx'\n",
        "if os.path.isfile(FFILE): \n",
        "    print(\"File already exists\")\n",
        "    if os.access(FFILE, os.R_OK):\n",
        "        print (\"File is readable\")\n",
        "    else:\n",
        "        print (\"File is not readable, removing it and downloading again\")\n",
        "        !rm FFILE\n",
        "        !wget \"https://raw.github.com/alexdepremia/ML_IADA_UTs/main/Lab5/Dry_Bean_Dataset.xlsx\"\n",
        "else:\n",
        "    print(\"Either the file is missing or not readable, download it\")\n",
        "    !wget \"https://raw.github.com/alexdepremia/ML_IADA_UTs/main/Lab5/Dry_Bean_Dataset.xlsx\""
      ],
      "metadata": {
        "id": "g0eM9w9HnRDf"
      },
      "execution_count": null,
      "outputs": []
    },
    {
      "cell_type": "code",
      "source": [
        "# Load the data\n",
        "data = pd.read_excel('./Dry_Bean_Dataset.xlsx')\n",
        "data"
      ],
      "metadata": {
        "id": "CPt8p6GsnTGQ"
      },
      "execution_count": null,
      "outputs": []
    },
    {
      "cell_type": "markdown",
      "source": [
        "Divide features and label. Split the data in train and test set and **after that** normalize them:"
      ],
      "metadata": {
        "id": "H5m3HOy0nny0"
      }
    },
    {
      "cell_type": "code",
      "source": [],
      "metadata": {
        "id": "ZpAplcpvnunq"
      },
      "execution_count": null,
      "outputs": []
    },
    {
      "cell_type": "markdown",
      "source": [
        "**Before feeding the data into the following algorithms, try to perform PCA, varying the number of PCs, and check what changes**"
      ],
      "metadata": {
        "id": "YxDH5MYE21sj"
      }
    },
    {
      "cell_type": "markdown",
      "source": [
        "## K-Nearest Neighbors Classification \n",
        "\n",
        "Implement the KNN algorithm for classification."
      ],
      "metadata": {
        "id": "FptPlXMAnuym"
      }
    },
    {
      "cell_type": "code",
      "source": [],
      "metadata": {
        "id": "urjD3tGR3DV7"
      },
      "execution_count": null,
      "outputs": []
    },
    {
      "cell_type": "markdown",
      "source": [
        "## Decision Trees with Numerical Features \n",
        "\n",
        "Modify the implementation of decision trees to account for numerical input features."
      ],
      "metadata": {
        "id": "TZd_CqNr3DnI"
      }
    },
    {
      "cell_type": "code",
      "source": [],
      "metadata": {
        "id": "2yVWtuSI3Q07"
      },
      "execution_count": null,
      "outputs": []
    },
    {
      "cell_type": "markdown",
      "source": [
        "## Gaussian Naive Bayes \n",
        "Modufy the implemntation of naive Bayes to accout for numerical input features. The likelihood of each class ($p(data|class)$) is assumed to be a Gaussian $\\frac{1}{\\sqrt(\\sigma^2 2 \\pi)} \\exp (\\frac{1}{2} \\frac{(x-\\mu)}{\\sigma^2})$, where $\\mu, \\sigma^2$ are the mean and the variance for each class;"
      ],
      "metadata": {
        "id": "eL_3XYt33RH8"
      }
    },
    {
      "cell_type": "code",
      "source": [],
      "metadata": {
        "id": "SpUvWUY83tYc"
      },
      "execution_count": null,
      "outputs": []
    }
  ]
}