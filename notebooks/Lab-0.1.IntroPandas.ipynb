{
  "cells": [
    {
      "cell_type": "markdown",
      "metadata": {
        "id": "view-in-github",
        "colab_type": "text"
      },
      "source": [
        "<a href=\"https://colab.research.google.com/github/GaiaSaveri/intro-to-ml/blob/main/notebooks/Lab-0.1.IntroPandas.ipynb\" target=\"_parent\"><img src=\"https://colab.research.google.com/assets/colab-badge.svg\" alt=\"Open In Colab\"/></a>"
      ]
    },
    {
      "cell_type": "markdown",
      "metadata": {
        "id": "YneEBH1gDUgs"
      },
      "source": [
        "# Introduction to Pandas\n",
        "\n",
        "_pandas_ is an open source Python library for data analysis.\n",
        "\n",
        "## Data structures \n",
        "\n",
        "Pandas introduces two new data structures: **Series** and **Data frame**. \n",
        "\n",
        "### Series\n",
        "\n",
        "A Series in a one-dimensional object (similar to an array, list, or column in a table). A labeled index is assigned to each item in the Series (the default are 0-N indeces, being N the length of the Series minus one)."
      ]
    },
    {
      "cell_type": "code",
      "execution_count": 1,
      "metadata": {
        "id": "tLO0oCSlDUgt"
      },
      "outputs": [],
      "source": [
        "import os\n",
        "import pandas as pd\n",
        "import numpy as np\n",
        "import matplotlib.pyplot as plt"
      ]
    },
    {
      "cell_type": "code",
      "source": [
        "# create a series with a list\n",
        "s = pd.Series([7, 'Hello world', 42.26])\n",
        "print(\"Series with default index: \")\n",
        "print(s)"
      ],
      "metadata": {
        "id": "-dOPazsLHPJ5"
      },
      "execution_count": null,
      "outputs": []
    },
    {
      "cell_type": "code",
      "source": [
        "# create a series with a user-defined index\n",
        "series_with_index = pd.Series([2, True, 'Hey'], index=['A', 'B', 'C'])\n",
        "print(\"\\nSeries with user-defined index: \")\n",
        "print(series_with_index)"
      ],
      "metadata": {
        "id": "MY0xXyjMHRBZ"
      },
      "execution_count": null,
      "outputs": []
    },
    {
      "cell_type": "code",
      "source": [
        "# create a series from dictionary\n",
        "# in this case the index is made by the keys of the dictionary\n",
        "d = {'One':1, 'Two':2, 'Three':3}\n",
        "series_from_dict = pd.Series(d)\n",
        "print(\"\\nSeries from dictionary:\")\n",
        "print(series_from_dict)"
      ],
      "metadata": {
        "id": "DvQjBTozHT7L"
      },
      "execution_count": null,
      "outputs": []
    },
    {
      "cell_type": "code",
      "source": [
        "# indexing series\n",
        "dd = {'Chicago':1000, 'New York':1300, 'Portland':900, 'San Francisco':1100,\n",
        "     'Austin':450, 'Boston':None}\n",
        "cities = pd.Series(dd)\n",
        "print(\"\\nCities Series:\")\n",
        "print(cities)"
      ],
      "metadata": {
        "id": "eMkiXOC6HVPY"
      },
      "execution_count": null,
      "outputs": []
    },
    {
      "cell_type": "code",
      "source": [
        "# use the index to select specific items\n",
        "c = cities[['New York', 'San Francisco', 'Boston']]\n",
        "c"
      ],
      "metadata": {
        "id": "KAjH7cTrHWPW"
      },
      "execution_count": null,
      "outputs": []
    },
    {
      "cell_type": "code",
      "source": [
        "# use boolean indexing for selection\n",
        "cc = cities[cities<1000]\n",
        "cc"
      ],
      "metadata": {
        "id": "Ot8wBcR1H630"
      },
      "execution_count": null,
      "outputs": []
    },
    {
      "cell_type": "code",
      "source": [
        "# change the value in a Series\n",
        "cities['Austin'] = 500 \n",
        "cities"
      ],
      "metadata": {
        "id": "m7SodyAXIAA3"
      },
      "execution_count": null,
      "outputs": []
    },
    {
      "cell_type": "code",
      "source": [
        "# add two series together\n",
        "# returns a union of the two series with the addition occurring on the shared index values\n",
        "# NaN (Not a Number) on the others \n",
        "s1 = pd.Series([1, 2, 3], index=['A', 'B', 'C'])\n",
        "s2 = pd.Series([4, 5, 6], index=['A', 'D', 'C'])\n",
        "\n",
        "print(\"\\ns1: \")\n",
        "print(s1)\n",
        "print(\"\\ns2: \")\n",
        "print(s2)\n",
        "print(\"\\ns1 + s2: \")\n",
        "ss = s1 + s2\n",
        "print(ss)"
      ],
      "metadata": {
        "id": "Rsg8asUmIEiL"
      },
      "execution_count": null,
      "outputs": []
    },
    {
      "cell_type": "code",
      "source": [
        "# null checking\n",
        "# using notnull: returns a boolean series indicating which values aren't null\n",
        "not_null = cities.notnull()\n",
        "print(\"\\nNon-null elements in cities (notnull):\")\n",
        "print(not_null)\n",
        "\n",
        "# using isnull: returns a boolean series indicating which values are null\n",
        "is_null = cities.isnull()\n",
        "is_null_cities = cities[is_null]\n",
        "print(\"\\nNull elements in cities (isnull): \")\n",
        "print(is_null_cities)"
      ],
      "metadata": {
        "id": "AJ_pt2iwHfkd"
      },
      "execution_count": null,
      "outputs": []
    },
    {
      "cell_type": "markdown",
      "metadata": {
        "id": "xBHxj00nDUgv"
      },
      "source": [
        "### DataFrame\n",
        "\n",
        "A DataFrame is a tabular data structure comprised of rows and columns. It can be thought of as a group of Series objects that share an index (the columns' name). \n",
        "\n",
        "#### Reading data\n",
        "\n",
        "In order to create manually a DataFrame we can pass a dictionary of lists to the DataFrame constructor:"
      ]
    },
    {
      "cell_type": "code",
      "execution_count": null,
      "metadata": {
        "id": "VdvJ_zStDUgv"
      },
      "outputs": [],
      "source": [
        "data = {'letters':['A', 'B', 'C', 'D'],\n",
        "       'numbers':[1, 2, 3, 4],\n",
        "       'spelling': ['One', 'Two', 'Three', 'Four']}\n",
        "letters_numbers = pd.DataFrame(data, columns=['letters', 'numbers', 'spelling'])\n",
        "letters_numbers"
      ]
    },
    {
      "cell_type": "markdown",
      "metadata": {
        "id": "25LxDgdaDUgv"
      },
      "source": [
        "More often we have a dataset that we want to read into a DataFrame.\n",
        "\n",
        "The most common formats are *CSV* and *excel*, they are read using the functions `read_csv` and `read_excel` respectively."
      ]
    },
    {
      "cell_type": "code",
      "source": [
        "FFILE = './Dry_Bean_Dataset.xlsx'\n",
        "if os.path.isfile(FFILE): \n",
        "    print(\"File already exists\")\n",
        "    if os.access(FFILE, os.R_OK):\n",
        "        print (\"File is readable\")\n",
        "    else:\n",
        "        print (\"File is not readable, removing it and downloading again\")\n",
        "        !rm FFILE\n",
        "        !wget \"https://raw.github.com/alexdepremia/ML_IADA_UTs/main/Lab5/Dry_Bean_Dataset.xlsx\"\n",
        "else:\n",
        "    print(\"Either the file is missing or not readable, download it\")\n",
        "    !wget \"https://raw.github.com/alexdepremia/ML_IADA_UTs/main/Lab5/Dry_Bean_Dataset.xlsx\""
      ],
      "metadata": {
        "id": "pLdohNRDTfqR"
      },
      "execution_count": null,
      "outputs": []
    },
    {
      "cell_type": "code",
      "execution_count": null,
      "metadata": {
        "id": "JJG7sYSUDUgv"
      },
      "outputs": [],
      "source": [
        "# import excel dataset\n",
        "thanks = pd.read_excel('./Dry_Bean_Dataset.xlsx')\n",
        "# head(n) shows the first n rows (default is n=5)\n",
        "thanks.head()"
      ]
    },
    {
      "cell_type": "code",
      "execution_count": null,
      "metadata": {
        "id": "_OfGkfFZDUgw"
      },
      "outputs": [],
      "source": [
        "# import csv dataset\n",
        "path_csv = 'https://raw.githubusercontent.com/GaiaSaveri/intro-to-ml/main/data/ign.csv'\n",
        "reviews = pd.read_csv(path_csv)\n",
        "reviews.head(3)"
      ]
    },
    {
      "cell_type": "markdown",
      "metadata": {
        "id": "1E17iFWYDUgw"
      },
      "source": [
        "#### Indexing\n",
        "\n",
        "Pandas supports several methods for indexing data in a table:\n",
        "\n",
        "* `iloc` (integer based indexing): refers to rows and columns by their position, expressed as an integer starting from zero;\n",
        "* `loc` (label based indexing): uses row and column name;\n",
        "* Boolean indexing: uses boolean masks. Row names are stored in the field `index` of a data frame, columns names are stored in the field `columns`. \n",
        "\n",
        "We can observe that the csv-imported dataset has a discrepancy: the columns are shifted one position to the right with respect to the labels. We can fix this problem with the `iloc` method:"
      ]
    },
    {
      "cell_type": "code",
      "execution_count": null,
      "metadata": {
        "id": "wr1MxHy9DUgw"
      },
      "outputs": [],
      "source": [
        "col = reviews.columns # columns' names\n",
        "reviews = reviews.iloc[:,1:] # ignoring the column 0\n",
        "reviews.head() # problem fixed!"
      ]
    },
    {
      "cell_type": "code",
      "execution_count": null,
      "metadata": {
        "id": "gohlfgvIDUgw"
      },
      "outputs": [],
      "source": [
        "# select a subset of rows and columns of the dataframe\n",
        "reviews.iloc[0:10, 0:2] # first ten rows, first two columns"
      ]
    },
    {
      "cell_type": "code",
      "execution_count": null,
      "metadata": {
        "id": "ePB70qt1DUgx"
      },
      "outputs": [],
      "source": [
        "# select a subset of rows of the dataframe\n",
        "restricted_reviews = reviews.loc[10:20] # rows from ten to twenty\n",
        "restricted_reviews"
      ]
    },
    {
      "cell_type": "code",
      "execution_count": null,
      "metadata": {
        "id": "_7OY9JNmDUgx"
      },
      "outputs": [],
      "source": [
        "# select a subset of rows and columns using columns' names\n",
        "reviews.loc[0:10, [\"title\", \"score\"]]"
      ]
    },
    {
      "cell_type": "code",
      "execution_count": null,
      "metadata": {
        "id": "XoFKS3zQDUgx"
      },
      "outputs": [],
      "source": [
        "# select a subset of columns by their names keeping all rows\n",
        "reviews[[\"title\", \"score\"]]"
      ]
    },
    {
      "cell_type": "code",
      "execution_count": null,
      "metadata": {
        "id": "4MQcwyIODUgx"
      },
      "outputs": [],
      "source": [
        "# indexing using boolean mask\n",
        "mask = reviews[\"score\"] >= 9.5 \n",
        "mask # series of booleans"
      ]
    },
    {
      "cell_type": "code",
      "execution_count": null,
      "metadata": {
        "id": "MW4o9dKkDUgy"
      },
      "outputs": [],
      "source": [
        "# retrieve title of the games having a score >=9.5\n",
        "cool_games = reviews[mask][\"title\"]\n",
        "print(\"Fraction of cool games: \")\n",
        "# len returns the number of rows\n",
        "print(len(cool_games)/len(reviews[\"title\"]))\n",
        "cool_games"
      ]
    },
    {
      "cell_type": "markdown",
      "metadata": {
        "id": "kDL_BnIbDUgy"
      },
      "source": [
        "The following are some functions that can be used to get information about a DataFrame and do some maths with numeric columns:"
      ]
    },
    {
      "cell_type": "code",
      "execution_count": null,
      "metadata": {
        "id": "Nlf20rS3DUgy"
      },
      "outputs": [],
      "source": [
        "# info about each column\n",
        "reviews.info() "
      ]
    },
    {
      "cell_type": "code",
      "execution_count": null,
      "metadata": {
        "id": "WN23h5b7DUgy"
      },
      "outputs": [],
      "source": [
        "# statistical infos about the column score\n",
        "reviews[\"score\"].describe() "
      ]
    },
    {
      "cell_type": "code",
      "execution_count": null,
      "metadata": {
        "id": "HfAdDT0UDUgy"
      },
      "outputs": [],
      "source": [
        "# mean of each numeric column\n",
        "reviews.mean() "
      ]
    },
    {
      "cell_type": "code",
      "execution_count": null,
      "metadata": {
        "id": "0hQ4MdZUDUgy"
      },
      "outputs": [],
      "source": [
        "# median of each numeric column\n",
        "reviews.median() "
      ]
    },
    {
      "cell_type": "code",
      "execution_count": null,
      "metadata": {
        "id": "wjzsgSg4DUgz"
      },
      "outputs": [],
      "source": [
        "# arithmetic manipulation of the score column\n",
        "reviews[\"score\"]/2*3"
      ]
    },
    {
      "cell_type": "markdown",
      "metadata": {
        "id": "sbZaxELoDUgz"
      },
      "source": [
        "#### Summarising data"
      ]
    },
    {
      "cell_type": "code",
      "execution_count": null,
      "metadata": {
        "id": "V2fxWe29DUgz"
      },
      "outputs": [],
      "source": [
        "# unique: returns unique values of series object\n",
        "reviews[\"platform\"].unique()"
      ]
    },
    {
      "cell_type": "code",
      "execution_count": null,
      "metadata": {
        "id": "i45xVF-uDUgz"
      },
      "outputs": [],
      "source": [
        "# value_counts: returns a series containing counts of unique values\n",
        "reviews[\"release_year\"].value_counts(dropna=False)"
      ]
    },
    {
      "cell_type": "markdown",
      "metadata": {
        "id": "RQ4cVxrcDUgz"
      },
      "source": [
        "#### Grouping data\n",
        "\n",
        "Grouping data allows to aggregate data with respect to the values of one column, typically a category, even hierarchically.\n",
        "\n",
        "It is useful especially in data analysis problems, in which one often breaks the problem apart into manageble pieces, and then put everything back together again.\n",
        "\n",
        "The method `groupby` returns a collection of dataframes, which can be iterated on. "
      ]
    },
    {
      "cell_type": "code",
      "execution_count": null,
      "metadata": {
        "id": "uJIME1u2DUgz"
      },
      "outputs": [],
      "source": [
        "grouped = reviews.groupby('genre')\n",
        "grouped.size()"
      ]
    },
    {
      "cell_type": "code",
      "execution_count": null,
      "metadata": {
        "id": "eE-t-lYfDUg0"
      },
      "outputs": [],
      "source": [
        "# iterability/dataframe iteration\n",
        "for name, group in grouped:\n",
        "    print(name)\n",
        "    print(group.shape)\n",
        "    print(type(group))"
      ]
    },
    {
      "cell_type": "code",
      "execution_count": null,
      "metadata": {
        "id": "IPP_QZuwDUg0"
      },
      "outputs": [],
      "source": [
        "# another example of grouping\n",
        "reviews.groupby('score_phrase')['score'].mean()"
      ]
    },
    {
      "cell_type": "markdown",
      "metadata": {
        "id": "VYLd-suwDUg0"
      },
      "source": [
        "#### Applying functions to Series and DataFrames\n",
        "\n",
        "With the method `apply` of the Series object we can apply a (python/numpy/user-defined/lambda) function to each element of the Series. "
      ]
    },
    {
      "cell_type": "code",
      "execution_count": null,
      "metadata": {
        "id": "eVHr30YXDUg0"
      },
      "outputs": [],
      "source": [
        "# transform (encode) the column gender to a numeric one\n",
        "def editor_code(gstr):\n",
        "    if(pd.isnull(gstr)):\n",
        "        return gstr\n",
        "    elif gstr == \"Y\":\n",
        "        return 1\n",
        "    else: # gstr == \"N\"\n",
        "        return 0\n",
        "\n",
        "# apply function\n",
        "reviews['editors_choice'] = reviews['editors_choice'].apply(editor_code)\n",
        "# check the result\n",
        "reviews['editors_choice'].value_counts(dropna=False)"
      ]
    },
    {
      "cell_type": "markdown",
      "metadata": {
        "id": "YRwJcO2dDUg0"
      },
      "source": [
        "#### Aggregating data\n",
        "\n",
        "Numerical columns in grouped structures can be aggregated, in order for example to visualize their mean, sum, etc.. by calling the `agg` function."
      ]
    },
    {
      "cell_type": "code",
      "execution_count": null,
      "metadata": {
        "id": "dw8OLrAlDUg0"
      },
      "outputs": [],
      "source": [
        "grouped.agg(np.mean)"
      ]
    },
    {
      "cell_type": "code",
      "execution_count": null,
      "metadata": {
        "id": "Glt08np1DUg1"
      },
      "outputs": [],
      "source": [
        "# we can also pass a list of aggregating functions\n",
        "gr_genre = grouped[\"score\"].agg([np.mean, np.std])\n",
        "gr_genre"
      ]
    },
    {
      "cell_type": "markdown",
      "metadata": {
        "id": "BA7yfKkmDUg1"
      },
      "source": [
        "#### Plotting data \n",
        "\n",
        "The `plot` method of `DataFrame` is the way in which data are plotted in Pandas.\n",
        "\n",
        "The option `kind` allows the selection of the plot type (e.g. hist, bar)."
      ]
    },
    {
      "cell_type": "code",
      "execution_count": null,
      "metadata": {
        "id": "JhiHW2RSDUg1"
      },
      "outputs": [],
      "source": [
        "# histogram\n",
        "reviews[\"score\"].plot(kind='hist');\n",
        "# equivalent:\n",
        "# reviews[\"score\"].hist() "
      ]
    },
    {
      "cell_type": "code",
      "execution_count": null,
      "metadata": {
        "id": "Uvxgwb-PDUg1"
      },
      "outputs": [],
      "source": [
        "# bar plot\n",
        "gr_genre.plot(kind=\"bar\");"
      ]
    }
  ],
  "metadata": {
    "kernelspec": {
      "display_name": "Python 3",
      "language": "python",
      "name": "python3"
    },
    "language_info": {
      "codemirror_mode": {
        "name": "ipython",
        "version": 3
      },
      "file_extension": ".py",
      "mimetype": "text/x-python",
      "name": "python",
      "nbconvert_exporter": "python",
      "pygments_lexer": "ipython3",
      "version": "3.7.3"
    },
    "colab": {
      "provenance": [],
      "include_colab_link": true
    }
  },
  "nbformat": 4,
  "nbformat_minor": 0
}